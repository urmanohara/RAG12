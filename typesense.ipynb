{
 "cells": [
  {
   "cell_type": "markdown",
   "id": "2d93c53e",
   "metadata": {},
   "source": [
    "## RAG Application Using Type Sense"
   ]
  },
  {
   "cell_type": "code",
   "execution_count": 2,
   "id": "9156e4b3",
   "metadata": {},
   "outputs": [],
   "source": [
    "import typesense"
   ]
  },
  {
   "cell_type": "code",
   "execution_count": null,
   "id": "62cf9f0c",
   "metadata": {},
   "outputs": [
    {
     "name": "stdout",
     "output_type": "stream",
     "text": [
      "{'created_at': 1758017285, 'default_sorting_field': 'ratings_count', 'enable_nested_fields': False, 'fields': [{'facet': False, 'index': True, 'infix': False, 'locale': '', 'name': 'title', 'optional': False, 'sort': False, 'stem': False, 'stem_dictionary': '', 'store': True, 'type': 'string'}, {'facet': True, 'index': True, 'infix': False, 'locale': '', 'name': 'authors', 'optional': False, 'sort': False, 'stem': False, 'stem_dictionary': '', 'store': True, 'type': 'string[]'}, {'facet': True, 'index': True, 'infix': False, 'locale': '', 'name': 'publication_year', 'optional': False, 'sort': True, 'stem': False, 'stem_dictionary': '', 'store': True, 'type': 'int32'}, {'facet': False, 'index': True, 'infix': False, 'locale': '', 'name': 'ratings_count', 'optional': False, 'sort': True, 'stem': False, 'stem_dictionary': '', 'store': True, 'type': 'int32'}, {'facet': False, 'index': True, 'infix': False, 'locale': '', 'name': 'average_rating', 'optional': False, 'sort': True, 'stem': False, 'stem_dictionary': '', 'store': True, 'type': 'float'}], 'name': 'books', 'num_documents': 0, 'symbols_to_index': [], 'token_separators': []}\n"
     ]
    }
   ],
   "source": [
    "client=typesense.Client({\n",
    "  'nodes': [{\n",
    "    'host': '8a5wnxyt2oh9p-1.a1.typesense.net',  # For Typesense Cloud use xxx.a1.typesense.net\n",
    "    'port': '443',       # For Typesense Cloud use 443\n",
    "    'protocol': 'https'    # For Typesense Cloud use https\n",
    "  }],\n",
    "  'api_key':'kfl7rI0OUu4LrE3ZiiZfhvS1elvM',\n",
    "  'connection_timeout_seconds': 2\n",
    "})\n",
    "\n",
    "books_schema = {\n",
    "  'name': 'books',\n",
    "  'fields': [\n",
    "    {'name': 'title', 'type': 'string'},\n",
    "    {'name': 'authors', 'type': 'string[]', 'facet': True},\n",
    "    {'name': 'publication_year', 'type': 'int32', 'facet': True},\n",
    "    {'name': 'ratings_count', 'type': 'int32'},\n",
    "    {'name': 'average_rating', 'type': 'float'}\n",
    "  ],\n",
    "  'default_sorting_field': 'ratings_count'\n",
    "}\n",
    "print(client.collections.create(books_schema))\n"
   ]
  },
  {
   "cell_type": "code",
   "execution_count": 4,
   "id": "d0ce65f0",
   "metadata": {},
   "outputs": [
    {
     "data": {
      "text/plain": [
       "<typesense.client.Client at 0x22c687d3230>"
      ]
     },
     "execution_count": 4,
     "metadata": {},
     "output_type": "execute_result"
    }
   ],
   "source": [
    "client"
   ]
  },
  {
   "cell_type": "code",
   "execution_count": 6,
   "id": "26ede476",
   "metadata": {},
   "outputs": [],
   "source": [
    "with open('books.jsonl', 'r', encoding='utf-8') as jsonl_file:\n",
    "    data = jsonl_file.read()\n",
    "    client.collections['books'].documents.import_(data)"
   ]
  },
  {
   "cell_type": "code",
   "execution_count": 7,
   "id": "0acb0240",
   "metadata": {},
   "outputs": [
    {
     "data": {
      "text/plain": [
       "{'facet_counts': [],\n",
       " 'found': 17,\n",
       " 'hits': [{'document': {'authors': ['J.K. Rowling', ' Mary GrandPré'],\n",
       "    'average_rating': 4.44,\n",
       "    'id': '2',\n",
       "    'image_url': 'https://images.gr-assets.com/books/1474154022m/3.jpg',\n",
       "    'publication_year': 1997,\n",
       "    'ratings_count': 4602479,\n",
       "    'title': \"Harry Potter and the Philosopher's Stone\"},\n",
       "   'highlight': {'title': {'matched_tokens': ['Harry', 'Potter'],\n",
       "     'snippet': \"<mark>Harry</mark> <mark>Potter</mark> and the Philosopher's Stone\"}},\n",
       "   'highlights': [{'field': 'title',\n",
       "     'matched_tokens': ['Harry', 'Potter'],\n",
       "     'snippet': \"<mark>Harry</mark> <mark>Potter</mark> and the Philosopher's Stone\"}],\n",
       "   'text_match': 1157451471441100921,\n",
       "   'text_match_info': {'best_field_score': '2211897868288',\n",
       "    'best_field_weight': 15,\n",
       "    'fields_matched': 1,\n",
       "    'num_tokens_dropped': 0,\n",
       "    'score': '1157451471441100921',\n",
       "    'tokens_matched': 2,\n",
       "    'typo_prefix_score': 0}},\n",
       "  {'document': {'authors': ['J.K. Rowling', ' Mary GrandPré', ' Rufus Beck'],\n",
       "    'average_rating': 4.53,\n",
       "    'id': '18',\n",
       "    'image_url': 'https://images.gr-assets.com/books/1499277281m/5.jpg',\n",
       "    'publication_year': 1999,\n",
       "    'ratings_count': 1832823,\n",
       "    'title': 'Harry Potter and the Prisoner of Azkaban'},\n",
       "   'highlight': {'title': {'matched_tokens': ['Harry', 'Potter'],\n",
       "     'snippet': '<mark>Harry</mark> <mark>Potter</mark> and the Prisoner of Azkaban'}},\n",
       "   'highlights': [{'field': 'title',\n",
       "     'matched_tokens': ['Harry', 'Potter'],\n",
       "     'snippet': '<mark>Harry</mark> <mark>Potter</mark> and the Prisoner of Azkaban'}],\n",
       "   'text_match': 1157451471441100921,\n",
       "   'text_match_info': {'best_field_score': '2211897868288',\n",
       "    'best_field_weight': 15,\n",
       "    'fields_matched': 1,\n",
       "    'num_tokens_dropped': 0,\n",
       "    'score': '1157451471441100921',\n",
       "    'tokens_matched': 2,\n",
       "    'typo_prefix_score': 0}},\n",
       "  {'document': {'authors': ['J.K. Rowling', ' Mary GrandPré'],\n",
       "    'average_rating': 4.37,\n",
       "    'id': '23',\n",
       "    'image_url': 'https://images.gr-assets.com/books/1474169725m/15881.jpg',\n",
       "    'publication_year': 1998,\n",
       "    'ratings_count': 1779331,\n",
       "    'title': 'Harry Potter and the Chamber of Secrets'},\n",
       "   'highlight': {'title': {'matched_tokens': ['Harry', 'Potter'],\n",
       "     'snippet': '<mark>Harry</mark> <mark>Potter</mark> and the Chamber of Secrets'}},\n",
       "   'highlights': [{'field': 'title',\n",
       "     'matched_tokens': ['Harry', 'Potter'],\n",
       "     'snippet': '<mark>Harry</mark> <mark>Potter</mark> and the Chamber of Secrets'}],\n",
       "   'text_match': 1157451471441100921,\n",
       "   'text_match_info': {'best_field_score': '2211897868288',\n",
       "    'best_field_weight': 15,\n",
       "    'fields_matched': 1,\n",
       "    'num_tokens_dropped': 0,\n",
       "    'score': '1157451471441100921',\n",
       "    'tokens_matched': 2,\n",
       "    'typo_prefix_score': 0}},\n",
       "  {'document': {'authors': ['J.K. Rowling', ' Mary GrandPré'],\n",
       "    'average_rating': 4.53,\n",
       "    'id': '24',\n",
       "    'image_url': 'https://images.gr-assets.com/books/1361482611m/6.jpg',\n",
       "    'publication_year': 2000,\n",
       "    'ratings_count': 1753043,\n",
       "    'title': 'Harry Potter and the Goblet of Fire'},\n",
       "   'highlight': {'title': {'matched_tokens': ['Harry', 'Potter'],\n",
       "     'snippet': '<mark>Harry</mark> <mark>Potter</mark> and the Goblet of Fire'}},\n",
       "   'highlights': [{'field': 'title',\n",
       "     'matched_tokens': ['Harry', 'Potter'],\n",
       "     'snippet': '<mark>Harry</mark> <mark>Potter</mark> and the Goblet of Fire'}],\n",
       "   'text_match': 1157451471441100921,\n",
       "   'text_match_info': {'best_field_score': '2211897868288',\n",
       "    'best_field_weight': 15,\n",
       "    'fields_matched': 1,\n",
       "    'num_tokens_dropped': 0,\n",
       "    'score': '1157451471441100921',\n",
       "    'tokens_matched': 2,\n",
       "    'typo_prefix_score': 0}},\n",
       "  {'document': {'authors': ['J.K. Rowling', ' Mary GrandPré'],\n",
       "    'average_rating': 4.61,\n",
       "    'id': '25',\n",
       "    'image_url': 'https://images.gr-assets.com/books/1474171184m/136251.jpg',\n",
       "    'publication_year': 2007,\n",
       "    'ratings_count': 1746574,\n",
       "    'title': 'Harry Potter and the Deathly Hallows'},\n",
       "   'highlight': {'title': {'matched_tokens': ['Harry', 'Potter'],\n",
       "     'snippet': '<mark>Harry</mark> <mark>Potter</mark> and the Deathly Hallows'}},\n",
       "   'highlights': [{'field': 'title',\n",
       "     'matched_tokens': ['Harry', 'Potter'],\n",
       "     'snippet': '<mark>Harry</mark> <mark>Potter</mark> and the Deathly Hallows'}],\n",
       "   'text_match': 1157451471441100921,\n",
       "   'text_match_info': {'best_field_score': '2211897868288',\n",
       "    'best_field_weight': 15,\n",
       "    'fields_matched': 1,\n",
       "    'num_tokens_dropped': 0,\n",
       "    'score': '1157451471441100921',\n",
       "    'tokens_matched': 2,\n",
       "    'typo_prefix_score': 0}},\n",
       "  {'document': {'authors': ['J.K. Rowling', ' Mary GrandPré'],\n",
       "    'average_rating': 4.46,\n",
       "    'id': '21',\n",
       "    'image_url': 'https://images.gr-assets.com/books/1387141547m/2.jpg',\n",
       "    'publication_year': 2003,\n",
       "    'ratings_count': 1735368,\n",
       "    'title': 'Harry Potter and the Order of the Phoenix'},\n",
       "   'highlight': {'title': {'matched_tokens': ['Harry', 'Potter'],\n",
       "     'snippet': '<mark>Harry</mark> <mark>Potter</mark> and the Order of the Phoenix'}},\n",
       "   'highlights': [{'field': 'title',\n",
       "     'matched_tokens': ['Harry', 'Potter'],\n",
       "     'snippet': '<mark>Harry</mark> <mark>Potter</mark> and the Order of the Phoenix'}],\n",
       "   'text_match': 1157451471441100921,\n",
       "   'text_match_info': {'best_field_score': '2211897868288',\n",
       "    'best_field_weight': 15,\n",
       "    'fields_matched': 1,\n",
       "    'num_tokens_dropped': 0,\n",
       "    'score': '1157451471441100921',\n",
       "    'tokens_matched': 2,\n",
       "    'typo_prefix_score': 0}},\n",
       "  {'document': {'authors': ['J.K. Rowling', ' Mary GrandPré'],\n",
       "    'average_rating': 4.54,\n",
       "    'id': '27',\n",
       "    'image_url': 'https://images.gr-assets.com/books/1361039191m/1.jpg',\n",
       "    'publication_year': 2005,\n",
       "    'ratings_count': 1678823,\n",
       "    'title': 'Harry Potter and the Half-Blood Prince'},\n",
       "   'highlight': {'title': {'matched_tokens': ['Harry', 'Potter'],\n",
       "     'snippet': '<mark>Harry</mark> <mark>Potter</mark> and the Half-Blood Prince'}},\n",
       "   'highlights': [{'field': 'title',\n",
       "     'matched_tokens': ['Harry', 'Potter'],\n",
       "     'snippet': '<mark>Harry</mark> <mark>Potter</mark> and the Half-Blood Prince'}],\n",
       "   'text_match': 1157451471441100921,\n",
       "   'text_match_info': {'best_field_score': '2211897868288',\n",
       "    'best_field_weight': 15,\n",
       "    'fields_matched': 1,\n",
       "    'num_tokens_dropped': 0,\n",
       "    'score': '1157451471441100921',\n",
       "    'tokens_matched': 2,\n",
       "    'typo_prefix_score': 0}},\n",
       "  {'document': {'authors': ['John Tiffany', ' Jack Thorne', ' J.K. Rowling'],\n",
       "    'average_rating': 3.75,\n",
       "    'id': '279',\n",
       "    'image_url': 'https://images.gr-assets.com/books/1470082995m/29056083.jpg',\n",
       "    'publication_year': 2016,\n",
       "    'ratings_count': 270603,\n",
       "    'title': 'Harry Potter and the Cursed Child, Parts One and Two'},\n",
       "   'highlight': {'title': {'matched_tokens': ['Harry', 'Potter'],\n",
       "     'snippet': '<mark>Harry</mark> <mark>Potter</mark> and the Cursed Child, Parts One and Two'}},\n",
       "   'highlights': [{'field': 'title',\n",
       "     'matched_tokens': ['Harry', 'Potter'],\n",
       "     'snippet': '<mark>Harry</mark> <mark>Potter</mark> and the Cursed Child, Parts One and Two'}],\n",
       "   'text_match': 1157451471441100921,\n",
       "   'text_match_info': {'best_field_score': '2211897868288',\n",
       "    'best_field_weight': 15,\n",
       "    'fields_matched': 1,\n",
       "    'num_tokens_dropped': 0,\n",
       "    'score': '1157451471441100921',\n",
       "    'tokens_matched': 2,\n",
       "    'typo_prefix_score': 0}},\n",
       "  {'document': {'authors': ['J.K. Rowling'],\n",
       "    'average_rating': 4.74,\n",
       "    'id': '422',\n",
       "    'image_url': 'https://images.gr-assets.com/books/1392579059m/862041.jpg',\n",
       "    'publication_year': 1998,\n",
       "    'ratings_count': 190050,\n",
       "    'title': 'Complete Harry Potter Boxed Set'},\n",
       "   'highlight': {'title': {'matched_tokens': ['Harry', 'Potter'],\n",
       "     'snippet': 'Complete <mark>Harry</mark> <mark>Potter</mark> Boxed Set'}},\n",
       "   'highlights': [{'field': 'title',\n",
       "     'matched_tokens': ['Harry', 'Potter'],\n",
       "     'snippet': 'Complete <mark>Harry</mark> <mark>Potter</mark> Boxed Set'}],\n",
       "   'text_match': 1157451471441100921,\n",
       "   'text_match_info': {'best_field_score': '2211897868288',\n",
       "    'best_field_weight': 15,\n",
       "    'fields_matched': 1,\n",
       "    'num_tokens_dropped': 0,\n",
       "    'score': '1157451471441100921',\n",
       "    'tokens_matched': 2,\n",
       "    'typo_prefix_score': 0}},\n",
       "  {'document': {'authors': ['Brian Sibley'],\n",
       "    'average_rating': 4.48,\n",
       "    'id': '2001',\n",
       "    'image_url': 'https://images.gr-assets.com/books/1464452934m/7952502.jpg',\n",
       "    'publication_year': 2010,\n",
       "    'ratings_count': 45081,\n",
       "    'title': 'Harry Potter: Film Wizardry'},\n",
       "   'highlight': {'title': {'matched_tokens': ['Harry', 'Potter'],\n",
       "     'snippet': '<mark>Harry</mark> <mark>Potter</mark>: Film Wizardry'}},\n",
       "   'highlights': [{'field': 'title',\n",
       "     'matched_tokens': ['Harry', 'Potter'],\n",
       "     'snippet': '<mark>Harry</mark> <mark>Potter</mark>: Film Wizardry'}],\n",
       "   'text_match': 1157451471441100921,\n",
       "   'text_match_info': {'best_field_score': '2211897868288',\n",
       "    'best_field_weight': 15,\n",
       "    'fields_matched': 1,\n",
       "    'num_tokens_dropped': 0,\n",
       "    'score': '1157451471441100921',\n",
       "    'tokens_matched': 2,\n",
       "    'typo_prefix_score': 0}}],\n",
       " 'out_of': 9979,\n",
       " 'page': 1,\n",
       " 'request_params': {'collection_name': 'books',\n",
       "  'first_q': 'harry potter',\n",
       "  'per_page': 10,\n",
       "  'q': 'harry potter'},\n",
       " 'search_cutoff': False,\n",
       " 'search_time_ms': 9}"
      ]
     },
     "execution_count": 7,
     "metadata": {},
     "output_type": "execute_result"
    }
   ],
   "source": [
    "search_parameters={\n",
    "    'q':\"harry potter\",\n",
    "    'query_by':\"title,authors\",\n",
    "    'sort_by':\"ratings_count:desc\"\n",
    "}\n",
    "\n",
    "client.collections['books'].documents.search(search_parameters)"
   ]
  },
  {
   "cell_type": "code",
   "execution_count": 8,
   "id": "5aab6df9",
   "metadata": {},
   "outputs": [
    {
     "data": {
      "text/plain": [
       "{'facet_counts': [],\n",
       " 'found': 1,\n",
       " 'hits': [{'document': {'authors': ['J.K. Rowling', ' Mary GrandPré'],\n",
       "    'average_rating': 4.44,\n",
       "    'id': '2',\n",
       "    'image_url': 'https://images.gr-assets.com/books/1474154022m/3.jpg',\n",
       "    'publication_year': 1997,\n",
       "    'ratings_count': 4602479,\n",
       "    'title': \"Harry Potter and the Philosopher's Stone\"},\n",
       "   'highlight': {'title': {'matched_tokens': ['Harry', 'Potter'],\n",
       "     'snippet': \"<mark>Harry</mark> <mark>Potter</mark> and the Philosopher's Stone\"}},\n",
       "   'highlights': [{'field': 'title',\n",
       "     'matched_tokens': ['Harry', 'Potter'],\n",
       "     'snippet': \"<mark>Harry</mark> <mark>Potter</mark> and the Philosopher's Stone\"}],\n",
       "   'text_match': 1157451471441100921,\n",
       "   'text_match_info': {'best_field_score': '2211897868288',\n",
       "    'best_field_weight': 15,\n",
       "    'fields_matched': 1,\n",
       "    'num_tokens_dropped': 0,\n",
       "    'score': '1157451471441100921',\n",
       "    'tokens_matched': 2,\n",
       "    'typo_prefix_score': 0}}],\n",
       " 'out_of': 9979,\n",
       " 'page': 1,\n",
       " 'request_params': {'collection_name': 'books',\n",
       "  'first_q': 'harry potter',\n",
       "  'per_page': 10,\n",
       "  'q': 'harry potter'},\n",
       " 'search_cutoff': False,\n",
       " 'search_time_ms': 4}"
      ]
     },
     "execution_count": 8,
     "metadata": {},
     "output_type": "execute_result"
    }
   ],
   "source": [
    "search_parameters = {\n",
    "  'q'         : 'harry potter',\n",
    "  'query_by'  : 'title',\n",
    "  'filter_by' : 'publication_year:<1998',\n",
    "  'sort_by'   : 'publication_year:desc'\n",
    "}\n",
    "\n",
    "client.collections['books'].documents.search(search_parameters)"
   ]
  },
  {
   "cell_type": "code",
   "execution_count": 9,
   "id": "84f05bb9",
   "metadata": {},
   "outputs": [
    {
     "data": {
      "text/plain": [
       "{'facet_counts': [{'counts': [{'count': 1,\n",
       "     'highlighted': ' Käthe Mazur',\n",
       "     'value': ' Käthe Mazur'},\n",
       "    {'count': 1, 'highlighted': 'Mahatma Gandhi', 'value': 'Mahatma Gandhi'},\n",
       "    {'count': 1, 'highlighted': 'Gretchen Rubin', 'value': 'Gretchen Rubin'},\n",
       "    {'count': 1,\n",
       "     'highlighted': 'James Patterson',\n",
       "     'value': 'James Patterson'}],\n",
       "   'field_name': 'authors',\n",
       "   'sampled': False,\n",
       "   'stats': {'total_values': 4}}],\n",
       " 'found': 3,\n",
       " 'hits': [{'document': {'authors': ['James Patterson'],\n",
       "    'average_rating': 4.08,\n",
       "    'id': '569',\n",
       "    'image_url': 'https://images.gr-assets.com/books/1339277875m/13152.jpg',\n",
       "    'publication_year': 2005,\n",
       "    'ratings_count': 172302,\n",
       "    'title': 'The Angel Experiment'},\n",
       "   'highlight': {'title': {'matched_tokens': ['Experiment'],\n",
       "     'snippet': 'The Angel <mark>Experiment</mark>'}},\n",
       "   'highlights': [{'field': 'title',\n",
       "     'matched_tokens': ['Experiment'],\n",
       "     'snippet': 'The Angel <mark>Experiment</mark>'}],\n",
       "   'text_match': 578730054645710969,\n",
       "   'text_match_info': {'best_field_score': '1108057784320',\n",
       "    'best_field_weight': 15,\n",
       "    'fields_matched': 1,\n",
       "    'num_tokens_dropped': 0,\n",
       "    'score': '578730054645710969',\n",
       "    'tokens_matched': 1,\n",
       "    'typo_prefix_score': 2}},\n",
       "  {'document': {'authors': ['Mahatma Gandhi'],\n",
       "    'average_rating': 4.07,\n",
       "    'id': '2649',\n",
       "    'image_url': 'https://images.gr-assets.com/books/1320560971m/112803.jpg',\n",
       "    'publication_year': 1940,\n",
       "    'ratings_count': 28177,\n",
       "    'title': 'An Autobiography or The Story of My Experiments with Truth'},\n",
       "   'highlight': {'title': {'matched_tokens': ['Experiments'],\n",
       "     'snippet': 'An Autobiography or The Story of My <mark>Experiments</mark> with Truth'}},\n",
       "   'highlights': [{'field': 'title',\n",
       "     'matched_tokens': ['Experiments'],\n",
       "     'snippet': 'An Autobiography or The Story of My <mark>Experiments</mark> with Truth'}],\n",
       "   'text_match': 578730054645710969,\n",
       "   'text_match_info': {'best_field_score': '1108057784320',\n",
       "    'best_field_weight': 15,\n",
       "    'fields_matched': 1,\n",
       "    'num_tokens_dropped': 0,\n",
       "    'score': '578730054645710969',\n",
       "    'tokens_matched': 1,\n",
       "    'typo_prefix_score': 2}},\n",
       "  {'document': {'authors': ['Gretchen Rubin', ' Käthe Mazur'],\n",
       "    'average_rating': 3.48,\n",
       "    'id': '9718',\n",
       "    'image_url': 'https://images.gr-assets.com/books/1344014249m/13414599.jpg',\n",
       "    'publication_year': 2012,\n",
       "    'ratings_count': 6058,\n",
       "    'title': 'Happier at Home: Kiss More, Jump More, Abandon a Project, Read Samuel Johnson, and My Other Experiments in the Practice of Everyday Life'},\n",
       "   'highlight': {'title': {'matched_tokens': ['Experiments'],\n",
       "     'snippet': 'Happier at Home: Kiss More, Jump More, Abandon a Project, Read Samuel Johnson, and My Other <mark>Experiments</mark> in the Practice of Everyday Life'}},\n",
       "   'highlights': [{'field': 'title',\n",
       "     'matched_tokens': ['Experiments'],\n",
       "     'snippet': 'Happier at Home: Kiss More, Jump More, Abandon a Project, Read Samuel Johnson, and My Other <mark>Experiments</mark> in the Practice of Everyday Life'}],\n",
       "   'text_match': 578730054645710969,\n",
       "   'text_match_info': {'best_field_score': '1108057784320',\n",
       "    'best_field_weight': 15,\n",
       "    'fields_matched': 1,\n",
       "    'num_tokens_dropped': 0,\n",
       "    'score': '578730054645710969',\n",
       "    'tokens_matched': 1,\n",
       "    'typo_prefix_score': 2}}],\n",
       " 'out_of': 9979,\n",
       " 'page': 1,\n",
       " 'request_params': {'collection_name': 'books',\n",
       "  'first_q': '',\n",
       "  'per_page': 10,\n",
       "  'q': 'experyment'},\n",
       " 'search_cutoff': False,\n",
       " 'search_time_ms': 1}"
      ]
     },
     "execution_count": 9,
     "metadata": {},
     "output_type": "execute_result"
    }
   ],
   "source": [
    "search_parameters = {\n",
    "  'q'         : 'experyment',\n",
    "  'query_by'  : 'title',\n",
    "  'facet_by'  : 'authors',\n",
    "  'sort_by'   : 'average_rating:desc'\n",
    "}\n",
    "\n",
    "client.collections['books'].documents.search(search_parameters)"
   ]
  },
  {
   "cell_type": "code",
   "execution_count": 10,
   "id": "e7b2ceb0",
   "metadata": {},
   "outputs": [],
   "source": [
    "### Langchain + Typsense + Groq LLM + RAG Application\n",
    "\n",
    "from langchain_community.document_loaders import TextLoader\n",
    "from langchain_community.vectorstores import Typesense\n",
    "from langchain_text_splitters import CharacterTextSplitter\n",
    "from langchain.embeddings import HuggingFaceEmbeddings\n",
    "from langchain_groq import ChatGroq"
   ]
  },
  {
   "cell_type": "code",
   "execution_count": null,
   "id": "925a8412",
   "metadata": {},
   "outputs": [],
   "source": [
    "import os\n",
    "os.environ[\"GROQ_API_KEY\"] = \"\""
   ]
  },
  {
   "cell_type": "code",
   "execution_count": 12,
   "id": "981019b6",
   "metadata": {},
   "outputs": [
    {
     "name": "stderr",
     "output_type": "stream",
     "text": [
      "C:\\Users\\win10\\AppData\\Local\\Temp\\ipykernel_45408\\13807947.py:6: LangChainDeprecationWarning: The class `HuggingFaceEmbeddings` was deprecated in LangChain 0.2.2 and will be removed in 1.0. An updated version of the class exists in the :class:`~langchain-huggingface package and should be used instead. To use it run `pip install -U :class:`~langchain-huggingface` and import as `from :class:`~langchain_huggingface import HuggingFaceEmbeddings``.\n",
      "  embeddings = HuggingFaceEmbeddings()\n",
      "C:\\Users\\win10\\AppData\\Local\\Temp\\ipykernel_45408\\13807947.py:6: LangChainDeprecationWarning: Default values for HuggingFaceEmbeddings.model_name were deprecated in LangChain 0.2.16 and will be removed in 0.4.0. Explicitly pass a model_name to the HuggingFaceEmbeddings constructor instead.\n",
      "  embeddings = HuggingFaceEmbeddings()\n",
      "e:\\YTRAG\\.venv\\Lib\\site-packages\\tqdm\\auto.py:21: TqdmWarning: IProgress not found. Please update jupyter and ipywidgets. See https://ipywidgets.readthedocs.io/en/stable/user_install.html\n",
      "  from .autonotebook import tqdm as notebook_tqdm\n"
     ]
    }
   ],
   "source": [
    "loader = TextLoader(\"test.txt\")\n",
    "documents = loader.load()\n",
    "text_splitter = CharacterTextSplitter(chunk_size=1000, chunk_overlap=100)\n",
    "docs = text_splitter.split_documents(documents)\n",
    "\n",
    "embeddings = HuggingFaceEmbeddings()"
   ]
  },
  {
   "cell_type": "code",
   "execution_count": 13,
   "id": "f555f8e7",
   "metadata": {},
   "outputs": [],
   "source": [
    "docsearch=Typesense.from_documents(\n",
    "    docs,\n",
    "    embeddings,\n",
    "    typesense_client_params={\n",
    "        \"host\": \"8a5wnxyt2pmjdoh9p-1.a1.typesense.net\",  # Use xxx.a1.typesense.net for Typesense Cloud\n",
    "        \"port\": \"443\",  # Use 443 for Typesense Cloud\n",
    "        \"protocol\": \"https\",  # Use https for Typesense Cloud\n",
    "        \"typesense_api_key\":\"kfl7rI0OUu4LrE3ZnQrZiiZfhvS1elvM\",\n",
    "        \"typesense_collection_name\": \"lang-chain\"\n",
    "    },\n",
    "    \n",
    ")"
   ]
  },
  {
   "cell_type": "code",
   "execution_count": 14,
   "id": "6bbd4b1e",
   "metadata": {},
   "outputs": [
    {
     "name": "stdout",
     "output_type": "stream",
     "text": [
      "Artificial Intelligence: Transforming the Future of Humanity\n",
      "Introduction\n",
      "\n",
      "Artificial Intelligence (AI) has emerged as one of the most transformative technologies of the 21st century. From powering everyday applications like voice assistants and recommendation systems to driving breakthroughs in healthcare, finance, and autonomous systems, AI has reshaped how societies function. At its core, AI is the science and engineering of building machines and systems capable of performing tasks that traditionally require human intelligence, such as learning, reasoning, decision-making, and problem-solving. This essay explores the history, key concepts, applications, ethical implications, and future prospects of AI, while reflecting on how it continues to shape our world.\n",
      "\n",
      "The Evolution of Artificial Intelligence\n"
     ]
    }
   ],
   "source": [
    "query = \"What is artificial intelligence\"\n",
    "found_docs = docsearch.similarity_search(query)\n",
    "print(found_docs[0].page_content)"
   ]
  },
  {
   "cell_type": "code",
   "execution_count": 15,
   "id": "cba57b4a",
   "metadata": {},
   "outputs": [
    {
     "data": {
      "text/plain": [
       "VectorStoreRetriever(tags=['Typesense', 'HuggingFaceEmbeddings'], vectorstore=<langchain_community.vectorstores.typesense.Typesense object at 0x0000022C1E6874D0>, search_kwargs={})"
      ]
     },
     "execution_count": 15,
     "metadata": {},
     "output_type": "execute_result"
    }
   ],
   "source": [
    "### Retriever\n",
    "retriever = docsearch.as_retriever()\n",
    "retriever"
   ]
  },
  {
   "cell_type": "code",
   "execution_count": 16,
   "id": "2c8b1c64",
   "metadata": {},
   "outputs": [
    {
     "data": {
      "text/plain": [
       "Document(metadata={'source': 'test.txt'}, page_content='Artificial Intelligence: Transforming the Future of Humanity\\nIntroduction\\n\\nArtificial Intelligence (AI) has emerged as one of the most transformative technologies of the 21st century. From powering everyday applications like voice assistants and recommendation systems to driving breakthroughs in healthcare, finance, and autonomous systems, AI has reshaped how societies function. At its core, AI is the science and engineering of building machines and systems capable of performing tasks that traditionally require human intelligence, such as learning, reasoning, decision-making, and problem-solving. This essay explores the history, key concepts, applications, ethical implications, and future prospects of AI, while reflecting on how it continues to shape our world.\\n\\nThe Evolution of Artificial Intelligence')"
      ]
     },
     "execution_count": 16,
     "metadata": {},
     "output_type": "execute_result"
    }
   ],
   "source": [
    "query = \"Artificial intelligence indepth explanation\"\n",
    "retriever.invoke(query)[0]"
   ]
  }
 ],
 "metadata": {
  "kernelspec": {
   "display_name": "YTRAG",
   "language": "python",
   "name": "python3"
  },
  "language_info": {
   "codemirror_mode": {
    "name": "ipython",
    "version": 3
   },
   "file_extension": ".py",
   "mimetype": "text/x-python",
   "name": "python",
   "nbconvert_exporter": "python",
   "pygments_lexer": "ipython3",
   "version": "3.13.2"
  }
 },
 "nbformat": 4,
 "nbformat_minor": 5
}
